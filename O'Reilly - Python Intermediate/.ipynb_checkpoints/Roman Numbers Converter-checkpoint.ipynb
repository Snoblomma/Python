{
 "cells": [
  {
   "cell_type": "code",
   "execution_count": 11,
   "metadata": {
    "collapsed": false
   },
   "outputs": [],
   "source": [
    "romanMap = {\"I\": 1, \"V\": 5, \"X\": 10, \"L\": 50, \"C\": 100, \"D\": 500, \"M\": 1000}\n",
    "\n",
    "##repetition:\n",
    "def repetition(array):\n",
    "    repetitionArray = []\n",
    "    expect = None\n",
    "    for number in array:\n",
    "        if number != expect or expect is None:\n",
    "            repetitionArray.append(number)\n",
    "            expect = number\n",
    "        elif number == expect:\n",
    "            repetitionArray[len(repetitionArray)-1] = repetitionArray[len(repetitionArray)-1] + number\n",
    "\n",
    "    return repetitionArray\n",
    "\n",
    "##rule of addition\n",
    "def add(array):\n",
    "    additionArray = []\n",
    "    for number in array:\n",
    "        if len(additionArray) == 0:\n",
    "            additionArray.append(number)\n",
    "        elif number < additionArray[len(additionArray)-1] and additionArray[len(additionArray)-1]/number <= 10:\n",
    "            additionArray[len(additionArray)-1] = additionArray[len(additionArray)-1] + number\n",
    "        else:\n",
    "            additionArray.append(number)\n",
    "\n",
    "    return additionArray\n",
    "\n",
    "##rule of substraction\n",
    "def substract(array):\n",
    "    substractionArray = []\n",
    "    for number in array:\n",
    "        if len(substractionArray) == 0:\n",
    "            substractionArray.append(number)\n",
    "        elif number > substractionArray[len(substractionArray)-1] and substractionArray[len(substractionArray)-1]/number <= 10:\n",
    "            substractionArray[len(substractionArray)-1] = number - substractionArray[len(substractionArray)-1]\n",
    "        else:\n",
    "            substractionArray.append(number)\n",
    "\n",
    "    return substractionArray\n",
    "\n",
    "##final addition\n",
    "def final(array):\n",
    "    finalSum = 0\n",
    "    for n in array:\n",
    "        finalSum = finalSum + n\n",
    "    return finalSum"
   ]
  },
  {
   "cell_type": "code",
   "execution_count": 10,
   "metadata": {
    "collapsed": false
   },
   "outputs": [],
   "source": []
  },
  {
   "cell_type": "code",
   "execution_count": 8,
   "metadata": {
    "collapsed": false
   },
   "outputs": [],
   "source": []
  },
  {
   "cell_type": "code",
   "execution_count": 18,
   "metadata": {
    "collapsed": true
   },
   "outputs": [],
   "source": []
  },
  {
   "cell_type": "code",
   "execution_count": 24,
   "metadata": {
    "collapsed": false
   },
   "outputs": [
    {
     "name": "stdout",
     "output_type": "stream",
     "text": [
      "Array after repetition:\n",
      "2000\n",
      "100\n",
      "Array after substraction:\n",
      "2000\n",
      "100\n",
      "Array after addition:\n",
      "2000\n",
      "100\n",
      "Final:\n",
      "2100\n"
     ]
    }
   ],
   "source": [
    "\n",
    "romanNumber = \"MMC\"\n",
    "total = 0\n",
    "romanArray = []\n",
    "for letter in romanNumber:\n",
    "    romanArray.append(romanMap[letter])\n",
    "\n",
    "s = repetition(romanArray)\n",
    "\n",
    "print(\"Array after repetition:\")\n",
    "for n in s:\n",
    "    print(n)\n",
    "    \n",
    "prev = 0\n",
    "while len(s) != prev:\n",
    "    prev = len(s)\n",
    "    s = substract(s)\n",
    "\n",
    "print(\"Array after substraction:\")\n",
    "for n in s:\n",
    "    print(n)\n",
    "\n",
    "\n",
    "prev = 0\n",
    "while len(s) != prev:\n",
    "    prev = len(s)\n",
    "    s = add(s)\n",
    "\n",
    "print(\"Array after addition:\")\n",
    "for n in s:\n",
    "    print(n)    \n",
    "\n",
    "fin = final(s)\n",
    "\n",
    "print(\"Final:\")\n",
    "print(fin)"
   ]
  },
  {
   "cell_type": "code",
   "execution_count": null,
   "metadata": {
    "collapsed": true
   },
   "outputs": [],
   "source": []
  }
 ],
 "metadata": {
  "kernelspec": {
   "display_name": "Python 3",
   "language": "python",
   "name": "python3"
  },
  "language_info": {
   "codemirror_mode": {
    "name": "ipython",
    "version": 3
   },
   "file_extension": ".py",
   "mimetype": "text/x-python",
   "name": "python",
   "nbconvert_exporter": "python",
   "pygments_lexer": "ipython3",
   "version": "3.6.0"
  }
 },
 "nbformat": 4,
 "nbformat_minor": 2
}
