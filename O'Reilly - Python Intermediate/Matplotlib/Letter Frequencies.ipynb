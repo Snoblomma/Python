{
 "cells": [
  {
   "cell_type": "code",
   "execution_count": 6,
   "metadata": {
    "collapsed": false
   },
   "outputs": [
    {
     "data": {
      "image/png": "[encoded data removed]",
      "text/plain": [
       "<matplotlib.figure.Figure at 0x18ec7bda9e8>"
      ]
     },
     "metadata": {},
     "output_type": "display_data"
    }
   ],
   "source": [
    "from matplotlib import pyplot\n",
    "import string\n",
    "\n",
    "data = open(\"irish_republic.txt\", \"r\").read()\n",
    "\n",
    "letter_counts = {}\n",
    "\n",
    "for char in string.ascii_lowercase:\n",
    "    letter_counts[char] = 0\n",
    "    \n",
    "for char in data:\n",
    "    char = char.lower()\n",
    "    if char in string.ascii_lowercase:\n",
    "        letter_counts[char] += 1\n",
    "\n",
    "        \n",
    "##plotting:\n",
    "\n",
    "##because dictionaries do not guarantee order, so we need to sort the items\n",
    "frequencies = letter_counts.items()\n",
    "labels = []\n",
    "counts = []\n",
    "\n",
    "for letter, count in sorted(frequencies):\n",
    "    labels.append(letter)\n",
    "    counts.append(count)\n",
    "    \n",
    "xlocations = range(len(frequencies))\n",
    "\n",
    "width = 0.5\n",
    "\n",
    "pyplot.xticks([elt for elt in xlocations], labels)\n",
    "pyplot.bar(xlocations, counts, width = width)\n",
    "pyplot.xlabel(\"Letter\")\n",
    "pyplot.ylabel(\"Frequency\")\n",
    "pyplot.title(\"Letter frequencies in Irish proclamation of Republic\")\n",
    "pyplot.show()"
   ]
  },
  {
   "cell_type": "code",
   "execution_count": null,
   "metadata": {
    "collapsed": true
   },
   "outputs": [],
   "source": []
  }
 ],
 "metadata": {
  "kernelspec": {
   "display_name": "Python 3",
   "language": "python",
   "name": "python3"
  },
  "language_info": {
   "codemirror_mode": {
    "name": "ipython",
    "version": 3
   },
   "file_extension": ".py",
   "mimetype": "text/x-python",
   "name": "python",
   "nbconvert_exporter": "python",
   "pygments_lexer": "ipython3",
   "version": "3.6.0"
  }
 },
 "nbformat": 4,
 "nbformat_minor": 2
}
