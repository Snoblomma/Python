{
 "cells": [
  {
   "cell_type": "code",
   "execution_count": 40,
   "metadata": {
    "collapsed": false
   },
   "outputs": [],
   "source": [
    "class RomanNumberConverter(object):\n",
    "        \n",
    "    def __init__(self, number):\n",
    "        self.romanMap = {\"I\": 1, \"V\": 5, \"X\": 10, \"L\": 50, \"C\": 100, \"D\": 500, \"M\": 1000}\n",
    "        self.number = number\n",
    "        self.array = []\n",
    "        self.repetitionArray = []\n",
    "        self.additionArray = []\n",
    "        self.substractionArray = []\n",
    "        self.finalSum = 0\n",
    "        self.expect = None\n",
    "    \n",
    "    def convert(self):        \n",
    "        for letter in self.number:\n",
    "            self.array.append(self.romanMap[letter])\n",
    "        return self.array\n",
    "    \n",
    "    def repetition(self):\n",
    "        self.expect = None\n",
    "        for number in self.array:\n",
    "            if number != self.expect or self.expect is None:\n",
    "                self.repetitionArray.append(number)\n",
    "                self.expect = number\n",
    "            elif number == self.expect:\n",
    "                self.repetitionArray[len(self.repetitionArray)-1] = self.repetitionArray[len(self.repetitionArray)-1] + number\n",
    "                \n",
    "        return self.repetitionArray\n",
    "    \n",
    "    ##rule of addition\n",
    "    def add(self):\n",
    "        for number in self.repetitionArray:\n",
    "            if len(self.additionArray) == 0:\n",
    "                self.additionArray.append(number)\n",
    "            elif number < self.additionArray[len(self.additionArray)-1] and self.additionArray[len(self.additionArray)-1]/number <= 10:\n",
    "                self.additionArray[len(self.additionArray)-1] = self.additionArray[len(self.additionArray)-1] + number\n",
    "            else:\n",
    "                self.additionArray.append(number)\n",
    "\n",
    "        return self.additionArray\n",
    "    \n",
    "    ##rule of substraction\n",
    "    def substract(self):\n",
    "        for number in self.additionArray:\n",
    "            if len(self.substractionArray) == 0:\n",
    "                self.substractionArray.append(number)\n",
    "            elif number > self.substractionArray[len(self.substractionArray)-1] and self.substractionArray[len(self.substractionArray)-1]/number <= 10:\n",
    "                self.substractionArray[len(self.substractionArray)-1] = number - self.substractionArray[len(self.substractionArray)-1]\n",
    "            else:\n",
    "                self.substractionArray.append(number)\n",
    "\n",
    "        return self.substractionArray\n",
    "    \n",
    "    ##final addition\n",
    "    def final(self):\n",
    "        for n in self.substractionArray:\n",
    "            self.finalSum = self.finalSum + n\n",
    "        return self.finalSum"
   ]
  },
  {
   "cell_type": "code",
   "execution_count": 41,
   "metadata": {
    "collapsed": false
   },
   "outputs": [
    {
     "name": "stdout",
     "output_type": "stream",
     "text": [
      "Initial array:\n",
      "1000\n",
      "1000\n",
      "50\n",
      "Array after repetition:\n",
      "2000\n",
      "50\n",
      "Array after addition:\n",
      "2000\n",
      "50\n",
      "Array after substraction:\n",
      "2000\n",
      "50\n",
      "After final addition:\n",
      "2050\n"
     ]
    }
   ],
   "source": [
    "romanNumber = \"MML\"\n",
    "\n",
    "d = RomanNumberConverter(romanNumber)\n",
    "\n",
    "romanArray = d.convert()\n",
    "print(\"Initial array:\")\n",
    "for n in romanArray:\n",
    "    print(n)\n",
    "    \n",
    "romanArray = d.repetition()\n",
    "print(\"Array after repetition:\")\n",
    "for n in romanArray:\n",
    "    print(n)\n",
    "    \n",
    "romanArray = d.add()\n",
    "print(\"Array after addition:\")\n",
    "for n in romanArray:\n",
    "    print(n)\n",
    "    \n",
    "romanArray = d.substract()\n",
    "print(\"Array after substraction:\")\n",
    "for n in romanArray:\n",
    "    print(n)\n",
    "    \n",
    "fin = d.final()\n",
    "print(\"After final addition:\")\n",
    "print(fin)"
   ]
  },
  {
   "cell_type": "code",
   "execution_count": null,
   "metadata": {
    "collapsed": true
   },
   "outputs": [],
   "source": []
  }
 ],
 "metadata": {
  "kernelspec": {
   "display_name": "Python 3",
   "language": "python",
   "name": "python3"
  },
  "language_info": {
   "codemirror_mode": {
    "name": "ipython",
    "version": 3
   },
   "file_extension": ".py",
   "mimetype": "text/x-python",
   "name": "python",
   "nbconvert_exporter": "python",
   "pygments_lexer": "ipython3",
   "version": "3.6.0"
  }
 },
 "nbformat": 4,
 "nbformat_minor": 2
}
