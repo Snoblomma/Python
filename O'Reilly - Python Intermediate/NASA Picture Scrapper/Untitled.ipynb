{
 "cells": [
  {
   "cell_type": "markdown",
   "metadata": {},
   "source": [
    "### From the archive, follow each link, find the image in that linked page, and download the page"
   ]
  },
  {
   "cell_type": "code",
   "execution_count": 23,
   "metadata": {
    "collapsed": false
   },
   "outputs": [],
   "source": [
    "import os\n",
    "import urllib.request\n",
    "from urllib.parse import urljoin\n",
    "from bs4 import BeautifulSoup as BS\n",
    "\n",
    "##reading content\n",
    "base_url = \"https://apod.nasa.gov/apod/archivepix.html\"\n",
    "download_directory = \"apod_pictures\"\n",
    "content = urllib.request.urlopen(base_url).read()"
   ]
  },
  {
   "cell_type": "code",
   "execution_count": null,
   "metadata": {
    "collapsed": false
   },
   "outputs": [
    {
     "name": "stdout",
     "output_type": "stream",
     "text": [
      "Following link:  <a aria-label=\"Flickr logo. If you click it, you'll go home\" aria-level=\"1\" class=\"main-logo\" data-track=\"gnLogoClick\" href=\"/\" role=\"heading\" title=\"Flickr logo. If you click it, you'll go home\">\n",
      "<svg class=\"icon icon-flickr_logo\"><use xlink:href=\"#icon-flickr_logo\"></use></svg>\n",
      "</a>\n",
      "Downloading image:  https://apod.nasa.gov/image/1706/_MG_5896Soponyai_sss1024.jpg\n"
     ]
    }
   ],
   "source": [
    "## for each link on the index page\"\n",
    "for link in BS(content, \"lxml\").findAll(\"a\"):\n",
    "    print(\"Following link: \", link)\n",
    "    href = urljoin(base_url, link[\"href\"])\n",
    "    \n",
    "    # follow the link and download the image\n",
    "    content = urllib.request.urlopen(href).read()\n",
    "    for img in BS(content, \"lxml\").findAll(\"img\"):\n",
    "        img_href = urljoin(href, img[\"src\"])\n",
    "        print(\"Downloading image: \", img_href)\n",
    "        img_name = img_href.split(\"/\")[-1]\n",
    "        urllib.request.urlretrieve(img_href, download_directory+\"/\"+img_name)\n",
    "        "
   ]
  },
  {
   "cell_type": "code",
   "execution_count": 19,
   "metadata": {
    "collapsed": false
   },
   "outputs": [
    {
     "data": {
      "text/plain": [
       "'lib/aptree.html'"
      ]
     },
     "execution_count": 19,
     "metadata": {},
     "output_type": "execute_result"
    }
   ],
   "source": []
  },
  {
   "cell_type": "code",
   "execution_count": null,
   "metadata": {
    "collapsed": true
   },
   "outputs": [],
   "source": []
  }
 ],
 "metadata": {
  "kernelspec": {
   "display_name": "Python 3",
   "language": "python",
   "name": "python3"
  },
  "language_info": {
   "codemirror_mode": {
    "name": "ipython",
    "version": 3
   },
   "file_extension": ".py",
   "mimetype": "text/x-python",
   "name": "python",
   "nbconvert_exporter": "python",
   "pygments_lexer": "ipython3",
   "version": "3.6.0"
  }
 },
 "nbformat": 4,
 "nbformat_minor": 2
}
