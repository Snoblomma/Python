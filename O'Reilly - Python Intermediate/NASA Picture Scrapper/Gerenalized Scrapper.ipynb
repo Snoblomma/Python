{
 "cells": [
  {
   "cell_type": "markdown",
   "metadata": {},
   "source": [
    "### Pulling down all images from website"
   ]
  },
  {
   "cell_type": "code",
   "execution_count": 3,
   "metadata": {
    "collapsed": false
   },
   "outputs": [
    {
     "name": "stdout",
     "output_type": "stream",
     "text": [
      "visiting:  https://apod.nasa.gov/apod/archivepix.html\n",
      "Downloading image:  https://apod.nasa.gov/apod/apod.gif\n"
     ]
    }
   ],
   "source": [
    "import os\n",
    "import urllib.request\n",
    "from urllib.parse import urljoin\n",
    "from bs4 import BeautifulSoup as BS\n",
    "\n",
    "base_url = \"https://apod.nasa.gov/apod/archivepix.html\"\n",
    "download_directory = \"gen_apod_pictures\"\n",
    "\n",
    "# keeping track of links we visited\n",
    "to_visit = set((base_url,))\n",
    "visited = set()\n",
    "\n",
    "while to_visit:\n",
    "    # pick a link to visit, visit the link\n",
    "    current_page = to_visit.pop()\n",
    "    print(\"visiting: \", current_page)\n",
    "    visited.add(current_page)\n",
    "    content = urllib.request.urlopen(current_page).read()\n",
    "    \n",
    "    # extracting any new links from that page\n",
    "    for link in BS(content, \"lxml\").findAll(\"a\"):\n",
    "        if \"href\" in link:\n",
    "            absolute_link = urljoin(current_page, link[\"href\"])\n",
    "            if absolute_link not in visited:\n",
    "                to_visit.add(absolute_link)\n",
    "            else:\n",
    "                print(\"Already visited: \", absolute_link)\n",
    "    \n",
    "    # download any images on the page\n",
    "    for img in BS(content, \"lxml\").findAll(\"img\"):\n",
    "        img_href = urljoin(current_page, img[\"src\"])\n",
    "        print(\"Downloading image: \", img_href)\n",
    "        img_name = img_href.split(\"/\")[-1]\n",
    "        urllib.request.urlretrieve(img_href, os.path.join(download_directory, img_name))"
   ]
  },
  {
   "cell_type": "code",
   "execution_count": null,
   "metadata": {
    "collapsed": true
   },
   "outputs": [],
   "source": []
  }
 ],
 "metadata": {
  "kernelspec": {
   "display_name": "Python 3",
   "language": "python",
   "name": "python3"
  },
  "language_info": {
   "codemirror_mode": {
    "name": "ipython",
    "version": 3
   },
   "file_extension": ".py",
   "mimetype": "text/x-python",
   "name": "python",
   "nbconvert_exporter": "python",
   "pygments_lexer": "ipython3",
   "version": "3.6.0"
  }
 },
 "nbformat": 4,
 "nbformat_minor": 2
}
