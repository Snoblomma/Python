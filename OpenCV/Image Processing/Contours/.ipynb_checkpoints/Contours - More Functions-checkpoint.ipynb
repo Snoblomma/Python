{
 "cells": [
  {
   "cell_type": "markdown",
   "metadata": {},
   "source": [
    "### Convexity Defects\n",
    "Any deviation of the object from hull can be considered as convexity defect."
   ]
  },
  {
   "cell_type": "code",
   "execution_count": 5,
   "metadata": {
    "collapsed": false
   },
   "outputs": [
    {
     "data": {
      "image/png": "[encoded data removed]",
      "text/plain": [
       "<matplotlib.figure.Figure at 0x1b209e68a20>"
      ]
     },
     "metadata": {},
     "output_type": "display_data"
    }
   ],
   "source": [
    "import cv2\n",
    "import numpy as np\n",
    "from matplotlib import pyplot as plt\n",
    "\n",
    "img = cv2.imread('star.png')\n",
    "img_gray = cv2.cvtColor(img,cv2.COLOR_BGR2GRAY)\n",
    "ret, thresh = cv2.threshold(img_gray, 127, 255,0)\n",
    "image, contours,hierarchy = cv2.findContours(thresh,2,1)\n",
    "cnt = contours[0]\n",
    "\n",
    "hull = cv2.convexHull(cnt,returnPoints = False)\n",
    "defects = cv2.convexityDefects(cnt,hull)\n",
    "\n",
    "for i in range(defects.shape[0]):\n",
    "    s,e,f,d = defects[i,0]\n",
    "    start = tuple(cnt[s][0])\n",
    "    end = tuple(cnt[e][0])\n",
    "    far = tuple(cnt[f][0])\n",
    "    cv2.line(img,start,end,[0,255,0],2)\n",
    "    cv2.circle(img,far,5,[0,0,255],-1)\n",
    "\n",
    "    \n",
    "plt.imshow(img),plt.title('Convexity Defects')\n",
    "plt.xticks([]), plt.yticks([])\n",
    "\n",
    "plt.show()"
   ]
  },
  {
   "cell_type": "markdown",
   "metadata": {},
   "source": [
    "### Point Polygon Test\n",
    "This function finds the shortest distance between a point in the image and a contour. It returns the distance which is negative when point is outside the contour, positive when point is inside and zero if point is on the contour."
   ]
  },
  {
   "cell_type": "code",
   "execution_count": 12,
   "metadata": {
    "collapsed": false
   },
   "outputs": [
    {
     "name": "stdout",
     "output_type": "stream",
     "text": [
      "-591.6299519125109\n",
      "1.0\n"
     ]
    }
   ],
   "source": [
    "## checking point 50,50\n",
    "dist = cv2.pointPolygonTest(cnt, (50,50), True)\n",
    "\n",
    "##checking point 500,500\n",
    "## In the function, third argument is measureDist. If it is True, it finds the signed distance. \n",
    "## If False, it finds whether the point is inside or outside or on the contour (it returns +1, -1, 0 respectively).\n",
    "dist2 = cv2.pointPolygonTest(cnt, (500,500), False)\n",
    "\n",
    "print(dist)\n",
    "print(dist2)"
   ]
  },
  {
   "cell_type": "markdown",
   "metadata": {},
   "source": [
    "### Match Shapes\n",
    "This function compares two shapes, or two contours and returns a metric showing the similarity. \n",
    "The lower the result, the better match is. It is calculated based on the hu-moment values."
   ]
  },
  {
   "cell_type": "code",
   "execution_count": 15,
   "metadata": {
    "collapsed": false
   },
   "outputs": [
    {
     "name": "stdout",
     "output_type": "stream",
     "text": [
      "0.0333113745602005\n"
     ]
    }
   ],
   "source": [
    "## comparing 2 pictures of similar stars\n",
    "import cv2\n",
    "import numpy as np\n",
    "\n",
    "img1 = cv2.imread('star.png',0)\n",
    "img2 = cv2.imread('star2.png',0)\n",
    "\n",
    "ret, thresh = cv2.threshold(img1, 127, 255,0)\n",
    "ret, thresh2 = cv2.threshold(img2, 127, 255,0)\n",
    "image,contours,hierarchy = cv2.findContours(thresh,2,1)\n",
    "cnt1 = contours[0]\n",
    "image,contours,hierarchy = cv2.findContours(thresh2,2,1)\n",
    "cnt2 = contours[0]\n",
    "\n",
    "ret = cv2.matchShapes(cnt1,cnt2,1,0.0)\n",
    "print(ret)"
   ]
  },
  {
   "cell_type": "code",
   "execution_count": 16,
   "metadata": {
    "collapsed": false
   },
   "outputs": [
    {
     "name": "stdout",
     "output_type": "stream",
     "text": [
      "0.0\n"
     ]
    }
   ],
   "source": [
    "## comparing picture to itself\n",
    "import cv2\n",
    "import numpy as np\n",
    "\n",
    "img1 = cv2.imread('star.png',0)\n",
    "img2 = cv2.imread('star.png',0)\n",
    "\n",
    "ret, thresh = cv2.threshold(img1, 127, 255,0)\n",
    "ret, thresh2 = cv2.threshold(img2, 127, 255,0)\n",
    "image,contours,hierarchy = cv2.findContours(thresh,2,1)\n",
    "cnt1 = contours[0]\n",
    "image,contours,hierarchy = cv2.findContours(thresh2,2,1)\n",
    "cnt2 = contours[0]\n",
    "\n",
    "ret = cv2.matchShapes(cnt1,cnt2,1,0.0)\n",
    "print(ret)"
   ]
  },
  {
   "cell_type": "code",
   "execution_count": null,
   "metadata": {
    "collapsed": true
   },
   "outputs": [],
   "source": []
  }
 ],
 "metadata": {
  "kernelspec": {
   "display_name": "Python 3",
   "language": "python",
   "name": "python3"
  },
  "language_info": {
   "codemirror_mode": {
    "name": "ipython",
    "version": 3
   },
   "file_extension": ".py",
   "mimetype": "text/x-python",
   "name": "python",
   "nbconvert_exporter": "python",
   "pygments_lexer": "ipython3",
   "version": "3.6.0"
  }
 },
 "nbformat": 4,
 "nbformat_minor": 2
}
