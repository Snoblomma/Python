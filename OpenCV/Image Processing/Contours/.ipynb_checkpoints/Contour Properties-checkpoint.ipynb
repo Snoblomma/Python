{
 "cells": [
  {
   "cell_type": "code",
   "execution_count": 55,
   "metadata": {
    "collapsed": true
   },
   "outputs": [],
   "source": [
    "import cv2\n",
    "import numpy as np\n",
    "from matplotlib import pyplot as plt\n",
    "\n",
    "img = cv2.imread(\"y.png\")\n",
    "imgray = cv2.cvtColor(img,cv2.COLOR_BGR2GRAY)\n",
    "ret,thresh = cv2.threshold(imgray,127,255,0)\n",
    "image, contours, hierarchy = cv2.findContours(thresh,cv2.RETR_TREE,cv2.CHAIN_APPROX_SIMPLE)\n",
    "\n",
    "cnt = contours[0]"
   ]
  },
  {
   "cell_type": "markdown",
   "metadata": {},
   "source": [
    "### Aspect Ratio\n",
    "It is the ratio of width to height of bounding rect of the object."
   ]
  },
  {
   "cell_type": "code",
   "execution_count": 56,
   "metadata": {
    "collapsed": false
   },
   "outputs": [
    {
     "name": "stdout",
     "output_type": "stream",
     "text": [
      "0.90625\n"
     ]
    }
   ],
   "source": [
    "x,y,w,h = cv2.boundingRect(cnt)\n",
    "aspect_ratio = float(w)/h\n",
    "print(aspect_ratio)"
   ]
  },
  {
   "cell_type": "markdown",
   "metadata": {},
   "source": [
    "### Extent\n",
    "Extent is the ratio of contour area to bounding rectangle area."
   ]
  },
  {
   "cell_type": "code",
   "execution_count": 57,
   "metadata": {
    "collapsed": false
   },
   "outputs": [
    {
     "name": "stdout",
     "output_type": "stream",
     "text": [
      "0.13870929118773948\n"
     ]
    }
   ],
   "source": [
    "area = cv2.contourArea(cnt)\n",
    "x,y,w,h = cv2.boundingRect(cnt)\n",
    "rect_area = w*h\n",
    "extent = float(area)/rect_area\n",
    "print(extent)"
   ]
  },
  {
   "cell_type": "markdown",
   "metadata": {},
   "source": [
    "###  Solidity\n",
    "Solidity is the ratio of contour area to its convex hull area."
   ]
  },
  {
   "cell_type": "code",
   "execution_count": 58,
   "metadata": {
    "collapsed": false
   },
   "outputs": [
    {
     "name": "stdout",
     "output_type": "stream",
     "text": [
      "0.21726288152280931\n"
     ]
    }
   ],
   "source": [
    "area = cv2.contourArea(cnt)\n",
    "hull = cv2.convexHull(cnt)\n",
    "hull_area = cv2.contourArea(hull)\n",
    "solidity = float(area)/hull_area\n",
    "print(solidity)"
   ]
  },
  {
   "cell_type": "markdown",
   "metadata": {},
   "source": [
    "### Equivalent Diameter\n",
    "Equivalent Diameter is the diameter of the circle whose area is same as the contour area."
   ]
  },
  {
   "cell_type": "code",
   "execution_count": 59,
   "metadata": {
    "collapsed": false
   },
   "outputs": [
    {
     "name": "stdout",
     "output_type": "stream",
     "text": [
      "76.8127076095\n"
     ]
    }
   ],
   "source": [
    "area = cv2.contourArea(cnt)\n",
    "equi_diameter = np.sqrt(4*area/np.pi)\n",
    "print(equi_diameter)"
   ]
  },
  {
   "cell_type": "markdown",
   "metadata": {},
   "source": [
    "### Orientation\n",
    "Orientation is the angle at which object is directed. Following method also gives the Major Axis and Minor Axis lengths."
   ]
  },
  {
   "cell_type": "code",
   "execution_count": 60,
   "metadata": {
    "collapsed": false
   },
   "outputs": [
    {
     "name": "stdout",
     "output_type": "stream",
     "text": [
      "84.064208984375\n"
     ]
    }
   ],
   "source": [
    "(x,y),(MA,ma),angle = cv2.fitEllipse(cnt)\n",
    "print(angle)"
   ]
  },
  {
   "cell_type": "markdown",
   "metadata": {},
   "source": [
    "### Mask and Pixel Points\n",
    "In some cases, we may need all the points which comprises that object."
   ]
  },
  {
   "cell_type": "code",
   "execution_count": 61,
   "metadata": {
    "collapsed": false
   },
   "outputs": [
    {
     "name": "stdout",
     "output_type": "stream",
     "text": [
      "[[ 30 205]\n",
      " [ 30 206]\n",
      " [ 30 207]\n",
      " ..., \n",
      " [221 130]\n",
      " [221 131]\n",
      " [221 132]]\n"
     ]
    }
   ],
   "source": [
    "mask = np.zeros(imgray.shape, np.uint8)\n",
    "cv2.drawContours(mask,[cnt],0,255,-1)\n",
    "pixelpoints = np.transpose(np.nonzero(mask))\n",
    "#pixelpoints = cv2.findNonZero(mask)\n",
    "\n",
    "print(pixelpoints)"
   ]
  },
  {
   "cell_type": "markdown",
   "metadata": {},
   "source": [
    "### Maximum Value, Minimum Value and their locations\n",
    "We can find these parameters using a mask image."
   ]
  },
  {
   "cell_type": "code",
   "execution_count": 62,
   "metadata": {
    "collapsed": false
   },
   "outputs": [
    {
     "data": {
      "image/png": "[encoded data removed]",
      "text/plain": [
       "<matplotlib.figure.Figure at 0x1b7229991d0>"
      ]
     },
     "metadata": {},
     "output_type": "display_data"
    }
   ],
   "source": [
    "min_val, max_val, min_loc, max_loc = cv2.minMaxLoc(imgray,mask = mask)\n",
    "\n",
    "minimum = cv2.circle(img, min_loc, 3,(0,255,0),2)\n",
    "maximum = cv2.circle(img, max_loc, 3,(0,255,255),2)\n",
    "plt.imshow(maximum),plt.title('Maximum Value Circle')\n",
    "plt.xticks([]), plt.yticks([])\n",
    "\n",
    "plt.show()"
   ]
  },
  {
   "cell_type": "code",
   "execution_count": 63,
   "metadata": {
    "collapsed": true
   },
   "outputs": [],
   "source": [
    "import cv2\n",
    "import numpy as np\n",
    "from matplotlib import pyplot as plt\n",
    "\n",
    "img = cv2.imread(\"y.png\")\n",
    "imgray = cv2.cvtColor(img,cv2.COLOR_BGR2GRAY)\n",
    "ret,thresh = cv2.threshold(imgray,127,255,0)\n",
    "image, contours, hierarchy = cv2.findContours(thresh,cv2.RETR_TREE,cv2.CHAIN_APPROX_SIMPLE)\n",
    "\n",
    "cnt = contours[0]"
   ]
  },
  {
   "cell_type": "markdown",
   "metadata": {},
   "source": [
    "### Mean Color or Mean Intensity\n",
    "Here, we can find the average color of an object. Or it can be average intensity of the object in grayscale mode. We again use the same mask to do it."
   ]
  },
  {
   "cell_type": "code",
   "execution_count": 64,
   "metadata": {
    "collapsed": false
   },
   "outputs": [
    {
     "name": "stdout",
     "output_type": "stream",
     "text": [
      "(249.70161129898548, 249.70161129898548, 249.70161129898548, 0.0)\n"
     ]
    }
   ],
   "source": [
    "mean_val = cv2.mean(img,mask = mask)\n",
    "print(mean_val)"
   ]
  },
  {
   "cell_type": "markdown",
   "metadata": {},
   "source": [
    "### Extreme Points\n",
    "Extreme Points means topmost, bottommost, rightmost and leftmost points of the object."
   ]
  },
  {
   "cell_type": "code",
   "execution_count": 65,
   "metadata": {
    "collapsed": false
   },
   "outputs": [
    {
     "data": {
      "image/png": "[encoded data removed]",
      "text/plain": [
       "<matplotlib.figure.Figure at 0x1b720f2a0b8>"
      ]
     },
     "metadata": {},
     "output_type": "display_data"
    }
   ],
   "source": [
    "leftmost = tuple(cnt[cnt[:,:,0].argmin()][0])\n",
    "rightmost = tuple(cnt[cnt[:,:,0].argmax()][0])\n",
    "topmost = tuple(cnt[cnt[:,:,1].argmin()][0])\n",
    "bottommost = tuple(cnt[cnt[:,:,1].argmax()][0])\n",
    "\n",
    "cv2.circle(img, leftmost, 3,(0,255,0),2)\n",
    "cv2.circle(img, rightmost, 3,(0,255,0),2)\n",
    "cv2.circle(img, topmost, 3,(0,255,0),2)\n",
    "cv2.circle(img, bottommost, 3,(0,255,0),2)\n",
    "plt.imshow(img),plt.title('Extreme Points')\n",
    "plt.xticks([]), plt.yticks([])\n",
    "\n",
    "plt.show()"
   ]
  },
  {
   "cell_type": "code",
   "execution_count": null,
   "metadata": {
    "collapsed": true
   },
   "outputs": [],
   "source": []
  }
 ],
 "metadata": {
  "kernelspec": {
   "display_name": "Python 3",
   "language": "python",
   "name": "python3"
  },
  "language_info": {
   "codemirror_mode": {
    "name": "ipython",
    "version": 3
   },
   "file_extension": ".py",
   "mimetype": "text/x-python",
   "name": "python",
   "nbconvert_exporter": "python",
   "pygments_lexer": "ipython3",
   "version": "3.6.0"
  }
 },
 "nbformat": 4,
 "nbformat_minor": 2
}
