{
 "cells": [
  {
   "cell_type": "markdown",
   "metadata": {},
   "source": [
    "### Abstract Extraction\n",
    "* Find the most important words (word importance = word frequency)\n",
    "* Compute a significance score for sentences based on words they contain (sentence importance = sum(word importance))\n",
    "* Pick the top most significant sentences"
   ]
  },
  {
   "cell_type": "markdown",
   "metadata": {},
   "source": [
    "### Downloading an Article"
   ]
  },
  {
   "cell_type": "code",
   "execution_count": 42,
   "metadata": {
    "collapsed": false
   },
   "outputs": [],
   "source": [
    "from urllib.request import urlopen\n",
    "from bs4 import BeautifulSoup\n",
    "\n",
    "#downloading the page\n",
    "articleURL = \"https://arstechnica.com/science/2016/08/meet-the-worst-ants-in-the-world/\"\n",
    "page = urlopen(articleURL).read().decode('utf8', 'ignore')\n",
    "soup = BeautifulSoup(page, 'lxml')"
   ]
  },
  {
   "cell_type": "code",
   "execution_count": 28,
   "metadata": {
    "collapsed": false
   },
   "outputs": [],
   "source": [
    "# soup.find('article')"
   ]
  },
  {
   "cell_type": "code",
   "execution_count": 39,
   "metadata": {
    "collapsed": false
   },
   "outputs": [],
   "source": [
    "# soup.find('article').text"
   ]
  },
  {
   "cell_type": "code",
   "execution_count": 47,
   "metadata": {
    "collapsed": false
   },
   "outputs": [
    {
     "data": {
      "text/plain": [
       "\"      invasive supercolony menace    —Meet the worst ants in the worldArgentine ants have invaded every continent in just one century. Can they be stopped?Annalee Newitz      -  Aug 12, 2016 11:15 am UTC Tom Campbell reader comments165Share this storyI battled the ants for about a year before I started noticing interesting patterns in their behavior.My military tactics against the invaders were those of a typical San Francisco eco-nerd. I used non-toxic spray made with orange peels to repel them (it actually works pretty well) and placed low-toxin poison sugar bait traps close to cracks they used to enter the house. But these\\xa0tiny, brown insects seemed unstoppable.\\xa0They would swarm onto their targets seemingly out of nowhere. I’d put out my cats’ food and come back in 45 minutes to find a thick, wriggling line of ants moving between a crack in the wall and their kibble target. If I blocked their trail with poison, they'd pour out of a different crack next to the kitchen counter. Or at the base of the stairs. Or in my bathroom.By necessity, I spent a lot of time watching these tireless insects overcoming every obstacle. And during all that reconnaissance, I started to see things that made me wonder who these ants really were.As\\xa0my neighbors watered the plants in our backyard, I watched ants\\xa0boiling out of cracks in the brick patio, racing to escape the onrushing tides. Looking more closely, I discovered they were carrying tiny white bundles in their mandibles. I recognized eggs and larvae. The ants were rescuing their brood from a flood apocalypse caused by oblivious humans.Later, when surveilling a trail of ants marching across my kitchen counter, I spotted one that was enormous—twice as big as a typical worker, with an elongated, bullet-shaped abdomen. I was watching a queen ant marching through my kitchen. The experience gave me chills; there was something genuinely awe-inspiring about seeing a queen in person. I had never heard of ant queens wandering around in the open. I guess I thought they were egg-laying machines, like the Queen in Aliens, and never left the deepest confines of the ant nest.I snapped a picture and started comparing it with online images of California queen ants. Quickly, I figured out this queen was a member of\\xa0Linepithema humile, known colloquially as Argentine ants (though they also come from Brazil and elsewhere in South America). Now I understood the magnitude of my problem.One of the\\xa0world's most invasive ant species had taken up residence in my house.The world of Linepithema humileL. humile isn't your stereotypical ant, with one queen and many workers laboring in a single nest. Argentine ants have multiple queens per colony, and there can be as many as 300 queens for every 1,000 workers. This makes them virtually impossible to kill with poison bait traps, which work on the principle that workers bring the tasty toxins back to the queen, whose death destroys the colony. When you have a lot of queens, that's not an effective strategy.Argentine ants are unusual in another way, too. They don’t build one large nest with lots of tunnels and rooms. Instead, they live in constantly shifting networks of temporary, shallow nests that change from day to day. Their ability to move quickly in large groups is what helped them swarm on my cats’ food so fast—and it’s why they were able to pack up their eggs and flee the flood in my backyard like well-trained disaster workers. Even when they aren’t running away from human gardeners, they move their eggs between nests all the time. Queens and workers are used to transiting from nest to nest, rarely staying put for long.Despite their name, Argentine ants have now lived in the United States for more than 120 ant generations, which are roughly a year long due to their short lifespans. It’s been a struggle. The environment in North America is dramatically different from the tropical ecosystems where the ants originally evolved. These ants had to become an urban species to survive, living almost exclusively in cities and agricultural areas where plumbing and irrigation provide the water they desperately need. Entirely thanks to humans, Argentine ants have now become the dominant ant species in California cities, driving out dozens of native species. Today they've\\xa0actually invaded most major landmasses in the world, including North America, Europe, Australia, Africa, Asia, and quite a few islands.Further ReadingBirth of the Ant Rights movementThese invaders have also developed social behavior that’s distinctly different from their native relatives back in South America. They've become adept at living in cities, creating nest networks that weave in and out of human houses and drinking from the water pipes that service their reluctant human neighbors. They've also become more peaceful, or at least less warlike. In their native ranges, Argentine ant colonies battle each other at the edges of their territories. In the rest of the world, this behavior is rare. Argentine ants abroad from different colonies treat each other like cousins, fighting very rarely. With city amenities available everywhere and no enemies at the gates, Argentine ants are currently thriving.The Argentine ant's progress across the globe echoes humanity's own. Staring at my uninvited house guests had inadvertently drawn me into one of the most fascinating stories of species invasion in recent history.Page: 1 2 3 4 Next →Annalee Newitz      Annalee Newitz is the Tech Culture Editor at Ars Technica. She is the author of Scatter, Adapt, and Remember: How Humans Will Survive a Mass Extinction, and her first novel, Autonomous, comes out in September 2017.    Email annalee.newitz@arstechnica.com//Twitter @annaleenreader comments165Share this storyYou must login or create an account to comment.← Previous story Next story → Related StoriesSponsored StoriesPowered by Today on Ars\""
      ]
     },
     "execution_count": 47,
     "metadata": {},
     "output_type": "execute_result"
    }
   ],
   "source": [
    "#get separate words from article\n",
    "text = ' '.join(map(lambda p: p.text, soup.find_all('article')))\n",
    "\n",
    "# removing special characters\n",
    "text.encode('ascii', 'ignore')\n",
    "text.replace(\"?\", \"\")\n",
    "text.replace('\\n', '')"
   ]
  },
  {
   "cell_type": "code",
   "execution_count": null,
   "metadata": {
    "collapsed": true
   },
   "outputs": [],
   "source": []
  }
 ],
 "metadata": {
  "kernelspec": {
   "display_name": "Python 3",
   "language": "python",
   "name": "python3"
  },
  "language_info": {
   "codemirror_mode": {
    "name": "ipython",
    "version": 3
   },
   "file_extension": ".py",
   "mimetype": "text/x-python",
   "name": "python",
   "nbconvert_exporter": "python",
   "pygments_lexer": "ipython3",
   "version": "3.6.0"
  }
 },
 "nbformat": 4,
 "nbformat_minor": 2
}
