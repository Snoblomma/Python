{
 "cells": [
  {
   "cell_type": "markdown",
   "metadata": {},
   "source": [
    "* Start with a corpus of articles\n",
    "* Identify underlying themes\n",
    "* Assign themes to new articles"
   ]
  },
  {
   "cell_type": "markdown",
   "metadata": {},
   "source": [
    "### Downloading the articles"
   ]
  },
  {
   "cell_type": "code",
   "execution_count": 22,
   "metadata": {
    "collapsed": false
   },
   "outputs": [
    {
     "name": "stdout",
     "output_type": "stream",
     "text": [
      "Older Posts http://donkeykongblog.blogspot.ie/search?updated-max=2015-08-02T23:30:00-07:00&max-results=10\n",
      "Older Posts http://donkeykongblog.blogspot.ie/search?updated-max=2014-06-30T20:10:00-07:00&max-results=10&start=10&by-date=false\n",
      "Older Posts http://donkeykongblog.blogspot.ie/search?updated-max=2013-11-17T20:34:00-08:00&max-results=10&start=20&by-date=false\n",
      "Older Posts http://donkeykongblog.blogspot.ie/search?updated-max=2013-11-15T19:46:00-08:00&max-results=10&start=30&by-date=false\n",
      "Older Posts http://donkeykongblog.blogspot.ie/search?updated-max=2013-06-20T17:41:00-07:00&max-results=10&start=40&by-date=false\n",
      "Older Posts http://donkeykongblog.blogspot.ie/search?updated-max=2013-01-01T23:33:00-08:00&max-results=10&start=50&by-date=false\n",
      "Older Posts http://donkeykongblog.blogspot.ie/search?updated-max=2012-11-18T14:32:00-08:00&max-results=10&start=60&by-date=false\n",
      "Older Posts http://donkeykongblog.blogspot.ie/search?updated-max=2012-11-17T11:03:00-08:00&max-results=10&start=70&by-date=false\n",
      "Older Posts http://donkeykongblog.blogspot.ie/search?updated-max=2012-10-23T00:36:00-07:00&max-results=10&start=80&by-date=false\n",
      "Older Posts http://donkeykongblog.blogspot.ie/search?updated-max=2012-10-01T00:00:00-07:00&max-results=10&start=90&by-date=false\n",
      "Older Posts http://donkeykongblog.blogspot.ie/search?updated-max=2012-01-27T21:29:00-08:00&max-results=10&start=100&by-date=false\n",
      "Older Posts http://donkeykongblog.blogspot.ie/search?updated-max=2011-11-10T17:10:00-08:00&max-results=10&start=110&by-date=false\n"
     ]
    }
   ],
   "source": [
    "import urllib.request as urllib2\n",
    "\n",
    "from bs4 import BeautifulSoup\n",
    "\n",
    "def getAllDonkeyPosts(url, links):\n",
    "    request = urllib2.Request(url)\n",
    "    response = urllib2.urlopen(request)\n",
    "    soup = BeautifulSoup(response, \"lxml\")\n",
    "    for a in soup.findAll('a'):\n",
    "        try:\n",
    "            url = a['href']\n",
    "            title = a['title']\n",
    "            if title == \"Older Posts\":\n",
    "                print(title, url)\n",
    "                links.append(url)\n",
    "                getAllDonkeyPosts(url, links)\n",
    "        except:\n",
    "            title = \"\"\n",
    "    return\n",
    "\n",
    "blogUrl = \"http://donkeykongblog.blogspot.ie/\"\n",
    "links = []\n",
    "getAllDonkeyPosts(blogUrl, links)"
   ]
  },
  {
   "cell_type": "code",
   "execution_count": 30,
   "metadata": {
    "collapsed": true
   },
   "outputs": [],
   "source": [
    "def getAllDonkeyText(testUrl):\n",
    "    request = urllib2.Request(testUrl)\n",
    "    response = urllib2.urlopen(request)\n",
    "    soup = BeautifulSoup(response, 'lxml')\n",
    "    mydivs = soup.findAll(\"div\", {\"class: 'post-body'\"})\n",
    "    \n",
    "    posts = []\n",
    "    for div in mydivs:\n",
    "        posts+=map(lambda p: p.text.encode('ascii', errors = 'replace').replace(\"?\", \" \"), div.findAll(\"li\"))\n",
    "    print(posts)\n",
    "    return posts"
   ]
  },
  {
   "cell_type": "code",
   "execution_count": 38,
   "metadata": {
    "collapsed": false
   },
   "outputs": [],
   "source": [
    "doxyDonkeyPosts = []\n",
    "for link in links:\n",
    "    doxyDonkeyPosts+=getAllDonkeyText(link)"
   ]
  },
  {
   "cell_type": "code",
   "execution_count": 39,
   "metadata": {
    "collapsed": false
   },
   "outputs": [
    {
     "data": {
      "text/plain": [
       "[]"
      ]
     },
     "execution_count": 39,
     "metadata": {},
     "output_type": "execute_result"
    }
   ],
   "source": [
    "doxyDonkeyPosts"
   ]
  },
  {
   "cell_type": "code",
   "execution_count": null,
   "metadata": {
    "collapsed": false
   },
   "outputs": [],
   "source": []
  },
  {
   "cell_type": "code",
   "execution_count": null,
   "metadata": {
    "collapsed": true
   },
   "outputs": [],
   "source": []
  }
 ],
 "metadata": {
  "kernelspec": {
   "display_name": "Python 3",
   "language": "python",
   "name": "python3"
  },
  "language_info": {
   "codemirror_mode": {
    "name": "ipython",
    "version": 3
   },
   "file_extension": ".py",
   "mimetype": "text/x-python",
   "name": "python",
   "nbconvert_exporter": "python",
   "pygments_lexer": "ipython3",
   "version": "3.6.0"
  }
 },
 "nbformat": 4,
 "nbformat_minor": 2
}
