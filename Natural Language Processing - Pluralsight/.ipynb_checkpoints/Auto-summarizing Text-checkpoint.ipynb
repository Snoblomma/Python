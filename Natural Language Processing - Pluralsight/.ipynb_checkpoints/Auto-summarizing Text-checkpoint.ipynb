{
 "cells": [
  {
   "cell_type": "markdown",
   "metadata": {},
   "source": [
    "### Abstract Extraction\n",
    "* Find the most important words (word importance = word frequency)\n",
    "* Compute a significance score for sentences based on words they contain (sentence importance = sum(word importance))\n",
    "* Pick the top most significant sentences"
   ]
  }
 ],
 "metadata": {
  "kernelspec": {
   "display_name": "Python 3",
   "language": "python",
   "name": "python3"
  },
  "language_info": {
   "codemirror_mode": {
    "name": "ipython",
    "version": 3
   },
   "file_extension": ".py",
   "mimetype": "text/x-python",
   "name": "python",
   "nbconvert_exporter": "python",
   "pygments_lexer": "ipython3",
   "version": "3.6.0"
  }
 },
 "nbformat": 4,
 "nbformat_minor": 2
}
