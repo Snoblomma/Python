{
 "cells": [
  {
   "cell_type": "markdown",
   "metadata": {},
   "source": [
    "### Abstract Extraction\n",
    "* Find the most important words (word importance = word frequency)\n",
    "* Compute a significance score for sentences based on words they contain (sentence importance = sum(word importance))\n",
    "* Pick the top most significant sentences"
   ]
  },
  {
   "cell_type": "markdown",
   "metadata": {},
   "source": [
    "### Downloading an Article"
   ]
  },
  {
   "cell_type": "code",
   "execution_count": 8,
   "metadata": {
    "collapsed": false
   },
   "outputs": [
    {
     "data": {
      "text/plain": [
       "<!DOCTYPE html>\n",
       "<html lang=\"en\">\n",
       "<head>\n",
       "<meta charset=\"utf-8\"/>\n",
       "<meta content=\"IE=edge\" http-equiv=\"X-UA-Compatible\"/>\n",
       "<meta content=\"width=device-width, initial-scale=1\" name=\"viewport\"/>\n",
       "<meta content=\"Lyrics to &quot;MANTRA&quot; song by Bring Me The Horizon: Do you wanna start a cult with me? I'm not vibrating like I ought to be I need a purpose, I can't ke...\" name=\"description\"/>\n",
       "<meta content=\"MANTRA lyrics, Bring Me The Horizon MANTRA lyrics, Bring Me The Horizon lyrics\" name=\"keywords\"/>\n",
       "<meta content=\"noarchive\" name=\"robots\"/>\n",
       "<meta content=\"//www.azlyrics.com/az_logo_tr.png\" property=\"og:image\"/>\n",
       "<title>Bring Me The Horizon - MANTRA Lyrics | AZLyrics.com</title>\n",
       "<link href=\"https://maxcdn.bootstrapcdn.com/bootstrap/3.3.4/css/bootstrap.min.css\" rel=\"stylesheet\"/>\n",
       "<link href=\"//www.azlyrics.com/bsaz.css\" rel=\"stylesheet\"/>\n",
       "<!-- HTML5 shim and Respond.js for IE8 support of HTML5 elements and media queries -->\n",
       "<!--[if lt IE 9]>\n",
       "<script src=\"https://oss.maxcdn.com/html5shiv/3.7.2/html5shiv.min.js\"></script>\n",
       "<script src=\"https://oss.maxcdn.com/respond/1.4.2/respond.min.js\"></script>\n",
       "<![endif]-->\n",
       "<script type=\"text/javascript\">\n",
       "ArtistName = \"Bring Me The Horizon\";\n",
       "SongName = \"MANTRA\";\n",
       "function submitCorrections(){\n",
       "\tdocument.getElementById('corlyr').submit();\n",
       "\treturn false;\n",
       "}\n",
       "</script>\n",
       "</head>\n",
       "<body>\n",
       "<!-- Begin comScore Tag -->\n",
       "<script>\n",
       "  var _comscore = _comscore || [];\n",
       "  _comscore.push({ c1: \"2\", c2: \"6772046\" });\n",
       "  (function() {\n",
       "    var s = document.createElement(\"script\"), el = document.getElementsByTagName(\"script\")[0]; s.async = true;\n",
       "    s.src = (document.location.protocol == \"https:\" ? \"https://sb\" : \"http://b\") + \".scorecardresearch.com/beacon.js\";\n",
       "    el.parentNode.insertBefore(s, el);\n",
       "  })();\n",
       "</script>\n",
       "<noscript>\n",
       "<img alt=\"\" src=\"https://sb.scorecardresearch.com/p?c1=2&amp;c2=6772046&amp;cv=2.0&amp;cj=1\"/>\n",
       "</noscript>\n",
       "<!-- End comScore Tag -->\n",
       "<div id=\"fb-root\"></div>\n",
       "<script>(function(d, s, id) {\n",
       "  var js, fjs = d.getElementsByTagName(s)[0];\n",
       "  if (d.getElementById(id)) return;\n",
       "  js = d.createElement(s); js.id = id;\n",
       "  js.src = \"//connect.facebook.net/en_US/sdk.js#xfbml=1&version=v2.3\";\n",
       "  fjs.parentNode.insertBefore(js, fjs);\n",
       "}(document, 'script', 'facebook-jssdk'));</script>\n",
       "<nav class=\"navbar navbar-default navbar-static-top noprint\">\n",
       "<div class=\"container\">\n",
       "<!-- Brand and toggle get grouped for better mobile display -->\n",
       "<div class=\"navbar-header\">\n",
       "<button class=\"navbar-toggle collapsed\" data-target=\"#search-collapse\" data-toggle=\"collapse\" type=\"button\">\n",
       "<span class=\"glyphicon glyphicon-search\"></span>\n",
       "</button>\n",
       "<button class=\"navbar-toggle collapsed\" data-target=\"#artists-collapse\" data-toggle=\"collapse\" type=\"button\">\n",
       "<span class=\"glyphicon glyphicon-th-list\"></span>\n",
       "</button>\n",
       "<a class=\"navbar-brand\" href=\"//www.azlyrics.com\"><img alt=\"AZLyrics.com\" class=\"pull-left\" src=\"//www.azlyrics.com/az_logo_tr.png\" style=\"max-height:40px; margin-top:-10px;\"/></a>\n",
       "</div>\n",
       "<ul class=\"collapse navbar-collapse nav navbar-nav\" id=\"artists-collapse\">\n",
       "<li>\n",
       "<div class=\"btn-group text-center\" role=\"group\">\n",
       "<a class=\"btn btn-menu\" href=\"//www.azlyrics.com/a.html\">A</a>\n",
       "<a class=\"btn btn-menu\" href=\"//www.azlyrics.com/b.html\">B</a>\n",
       "<a class=\"btn btn-menu\" href=\"//www.azlyrics.com/c.html\">C</a>\n",
       "<a class=\"btn btn-menu\" href=\"//www.azlyrics.com/d.html\">D</a>\n",
       "<a class=\"btn btn-menu\" href=\"//www.azlyrics.com/e.html\">E</a>\n",
       "<a class=\"btn btn-menu\" href=\"//www.azlyrics.com/f.html\">F</a>\n",
       "<a class=\"btn btn-menu\" href=\"//www.azlyrics.com/g.html\">G</a>\n",
       "<a class=\"btn btn-menu\" href=\"//www.azlyrics.com/h.html\">H</a>\n",
       "<a class=\"btn btn-menu\" href=\"//www.azlyrics.com/i.html\">I</a>\n",
       "<a class=\"btn btn-menu\" href=\"//www.azlyrics.com/j.html\">J</a>\n",
       "<a class=\"btn btn-menu\" href=\"//www.azlyrics.com/k.html\">K</a>\n",
       "<a class=\"btn btn-menu\" href=\"//www.azlyrics.com/l.html\">L</a>\n",
       "<a class=\"btn btn-menu\" href=\"//www.azlyrics.com/m.html\">M</a>\n",
       "<a class=\"btn btn-menu\" href=\"//www.azlyrics.com/n.html\">N</a>\n",
       "<a class=\"btn btn-menu\" href=\"//www.azlyrics.com/o.html\">O</a>\n",
       "<a class=\"btn btn-menu\" href=\"//www.azlyrics.com/p.html\">P</a>\n",
       "<a class=\"btn btn-menu\" href=\"//www.azlyrics.com/q.html\">Q</a>\n",
       "<a class=\"btn btn-menu\" href=\"//www.azlyrics.com/r.html\">R</a>\n",
       "<a class=\"btn btn-menu\" href=\"//www.azlyrics.com/s.html\">S</a>\n",
       "<a class=\"btn btn-menu\" href=\"//www.azlyrics.com/t.html\">T</a>\n",
       "<a class=\"btn btn-menu\" href=\"//www.azlyrics.com/u.html\">U</a>\n",
       "<a class=\"btn btn-menu\" href=\"//www.azlyrics.com/v.html\">V</a>\n",
       "<a class=\"btn btn-menu\" href=\"//www.azlyrics.com/w.html\">W</a>\n",
       "<a class=\"btn btn-menu\" href=\"//www.azlyrics.com/x.html\">X</a>\n",
       "<a class=\"btn btn-menu\" href=\"//www.azlyrics.com/y.html\">Y</a>\n",
       "<a class=\"btn btn-menu\" href=\"//www.azlyrics.com/z.html\">Z</a>\n",
       "<a class=\"btn btn-menu\" href=\"//www.azlyrics.com/19.html\">#</a>\n",
       "</div>\n",
       "</li>\n",
       "</ul>\n",
       "<div class=\"collapse navbar-collapse\" id=\"search-collapse\">\n",
       "<form action=\"//search.azlyrics.com/search.php\" class=\"navbar-form navbar-right search\" method=\"get\" role=\"search\">\n",
       "<div class=\"input-group\">\n",
       "<input class=\"form-control\" id=\"q\" name=\"q\" placeholder=\"\" type=\"text\"/>\n",
       "<span class=\"input-group-btn\">\n",
       "<button class=\"btn btn-primary\" type=\"submit\"><span class=\"glyphicon glyphicon-search\"></span> Search</button>\n",
       "</span>\n",
       "</div>\n",
       "</form>\n",
       "</div><!-- /.navbar-collapse -->\n",
       "</div><!-- /.container -->\n",
       "</nav>\n",
       "<!-- top ban -->\n",
       "<div class=\"lboard-wrap noprint\">\n",
       "<div class=\"container\">\n",
       "<div class=\"row\">\n",
       "<div class=\"col-xs-12 top-ad text-center\">\n",
       "<span id=\"cf_banner_top_nofc\"></span>\n",
       "</div>\n",
       "</div>\n",
       "</div>\n",
       "</div>\n",
       "<!-- main -->\n",
       "<div class=\"container main-page\">\n",
       "<div class=\"row\">\n",
       "<div class=\"col-lg-2 text-center hidden-md hidden-sm hidden-xs noprint\">\n",
       "<div class=\"sky-ad\"></div>\n",
       "</div>\n",
       "<!-- content -->\n",
       "<div class=\"col-xs-12 col-lg-8 text-center\">\n",
       "<div class=\"div-share noprint\">\n",
       "<div class=\"fb-like\" data-action=\"like\" data-href=\"https://www.azlyrics.com/lyrics/bringmethehorizon/mantra.html\" data-layout=\"button_count\" data-share=\"false\" data-show-faces=\"false\" style=\"float:left;\"></div>\n",
       "<!-- AddThis Button BEGIN -->\n",
       "<script src=\"https://s7.addthis.com/js/300/addthis_widget.js#username=azlyrics\" type=\"text/javascript\"></script>\n",
       "<div class=\"addthis_toolbox addthis_default_style\" style=\"float:right;\">\n",
       "<a class=\"btn btn-xs btn-share addthis_button_email\">\n",
       "<span class=\"playblk\"><img alt=\"Email\" class=\"playblk\" height=\"18\" src=\"//www.azlyrics.com/images/email.svg\" width=\"56\"/></span>\n",
       "</a>\n",
       "<a class=\"btn btn-xs btn-share addthis_button_print\" style=\"margin-right: 0px !important;\">\n",
       "<span class=\"playblk\"><img alt=\"Print\" class=\"playblk\" height=\"18\" src=\"//www.azlyrics.com/images/print.svg\" width=\"56\"/></span>\n",
       "</a>\n",
       "</div>\n",
       "</div>\n",
       "<!-- AddThis Button END -->\n",
       "<div class=\"div-share\"><h1>\"MANTRA\" lyrics</h1></div>\n",
       "<div class=\"lyricsh\">\n",
       "<h2><b>Bring Me The Horizon Lyrics</b></h2>\n",
       "</div>\n",
       "<div class=\"ringtone\">\n",
       "<span id=\"cf_text_top\"></span>\n",
       "</div>\n",
       "<b>\"MANTRA\"</b><br/>\n",
       "<br/>\n",
       "<div>\n",
       "<!-- Usage of azlyrics.com content by any third-party lyrics provider is prohibited by our licensing agreement. Sorry about that. -->\n",
       "Do you wanna start a cult with me?<br/>\n",
       "I'm not vibrating like I ought to be<br/>\n",
       "I need a purpose, I can't keep surfing<br/>\n",
       "Through this existential misery<br/>\n",
       "Now we're gonna need some real estate<br/>\n",
       "But if I choose my words carefully<br/>\n",
       "Think I could fool you that I'm the guru<br/>\n",
       "Wait, how do you spell epiphany?<br/>\n",
       "<br/>\n",
       "Before the truth will set you free, it will piss you off<br/>\n",
       "Before you find a place to be, you're gonna lose the plot<br/>\n",
       "Too late to tell you now, one ear and right out the other one<br/>\n",
       "'Cause all you ever do is chant the same old mantra<br/>\n",
       "<br/>\n",
       "Could I have your attention, please?<br/>\n",
       "It's time to tap into your tragedy<br/>\n",
       "Think you could use a new abuser<br/>\n",
       "Close your eyes and listen carefully<br/>\n",
       "Imagine you're stood on a beach<br/>\n",
       "Water gently lapping at your feet<br/>\n",
       "And now you're sinking, what were you thinking?<br/>\n",
       "That's all the time we have this week<br/>\n",
       "<br/>\n",
       "Before the truth will set you free, it will piss you off<br/>\n",
       "Before you find a place to be, you're gonna lose the plot<br/>\n",
       "Too late to tell you now, one ear and right out the other one<br/>\n",
       "'Cause all you ever do is chant the same old mantra<br/>\n",
       "<br/>\n",
       "And I know this doesn't make a lot of sense<br/>\n",
       "But do you really wanna think all by yourself now?<br/>\n",
       "All I'm asking for's a little bit of faith<br/>\n",
       "You know it's easy to believe<br/>\n",
       "And I know this doesn't make a lot of sense<br/>\n",
       "You know you gotta work the corners of your mind now<br/>\n",
       "All I'm asking for's a little bit of faith<br/>\n",
       "You know it's easy to, so easy to believe<br/>\n",
       "<br/>\n",
       "Before the truth will set you free, it will piss you off<br/>\n",
       "Before you find a place to be, you're gonna lose the plot<br/>\n",
       "Before the truth will set you free, it will piss you off<br/>\n",
       "Before you find a place to be, you're gonna lose the plot<br/>\n",
       "Too late to tell you now, one ear and right out the other one<br/>\n",
       "'Cause all you ever do, is chant the same old mantra\n",
       "</div>\n",
       "<br/><br/>\n",
       "<!-- MxM banner -->\n",
       "<div class=\"noprint\">\n",
       "<script>\n",
       "if  ( /Android|webOS|iPhone|iPod|iPad|BlackBerry|IEMobile|Opera Mini/i.test(navigator.userAgent) ) \n",
       "  {\n",
       "     document.write('<div style=\"margin-left: auto; margin-right: auto;\">'+\n",
       "  '<iframe scrolling=\"no\" style=\"border: 0px none; overflow:hidden;\" src=\"//adv.mxmcdn.net/br/t1.0/m_js/e_0/sn_0/l_18178098/su_0/rs_0/tr_3vUCAGPgc3u3MfySJNd8654qpi9DCJ-jCRyrpRcvPrdr8bRdkQLiXMr1WMc0ifeeWGrfkx1kJRe5OOsHRAkw_RiVYlI7D4kn54X3xwHneH7c7OhJ4ZU8WHkuXyOdHzBDnZr2_vUP79Nkc3IN4CDGkq94_jZH5hARW6Tj3KESX_IVrFoOt27L2uvW8dkNurEaupS0wmIx1nfqT7MOK8VGxe84NTD0IwS3GXpd0dv7BoRSADxkRsn35fStLNer7ky4BbnLXkmiiibdO1dxE_3YtaZvk67HfUkYT32tkMDg7fqK6VxUY8mW3eQaikqAMzyRNYKrVS9imiVceNqmvcaBsHQKwsnl7isWGtpuryoXj9JX62Z9EksISX1BkVBYy8pc43GSM4MrtFh8S287M4U_hznd5M1pYXTbHpoXNFXipX4kgHx4JgHyC_G6gVLnHNEWlxqNr1UgZB4kv7qy/\" width=\"290px\" height=\"50px\"></iframe>'+\n",
       "  '</div>');\n",
       "   }\n",
       "</script>\n",
       "<br/><br/>\n",
       "</div>\n",
       "<form action=\"../../add.php\" id=\"addsong\" method=\"post\">\n",
       "<input name=\"what\" type=\"hidden\" value=\"add_song\"/>\n",
       "<input name=\"artist\" type=\"hidden\" value=\"Bring Me The Horizon\"/>\n",
       "<input name=\"artist_id\" type=\"hidden\" value=\"2565\"/>\n",
       "</form>\n",
       "<form action=\"../../add.php\" id=\"corlyr\" method=\"post\">\n",
       "<input name=\"what\" type=\"hidden\" value=\"correct_lyrics\"/>\n",
       "<input name=\"song_id\" type=\"hidden\" value=\"689699\"/>\n",
       "</form>\n",
       "<div class=\"smt noprint\">\n",
       "<a class=\"btn btn-share\" href=\"#\" onclick=\"submitCorrections()\"><span class=\"glyphicon glyphicon-pencil\"></span> Submit Corrections</a>\n",
       "</div>\n",
       "<div class=\"smt\"></div>\n",
       "<div class=\"noprint\" style=\"padding: 15px 0\">\n",
       "<span id=\"cf_text_bottom\"></span>\n",
       "</div>\n",
       "<!-- credits -->\n",
       "<div class=\"smt\"></div>\n",
       "<!-- song facts -->\n",
       "<div class=\"panel album-panel noprint\">\n",
       "\"MANTRA\" was released as the first single from the album on 21 August 2018.\n",
       "</div>\n",
       "<div class=\"panel album-panel noprint\">\n",
       "According to Oliver Sykes, this song was inspired by \"Wild Wild Country\", a Netflix documentary depiciting the controversial Indian cult leader <a href=\"https://en.wikipedia.org/wiki/Rajneesh\" target=\"_blank\">Bhagwan Shree Rajneesh</a>. <i>\"As I was watching it and trying to write lyrics at the same time, I was drawing these similarities to cults and love. Starting a relationship – especially a marriage – is like starting a cult, a small two-man cult, because you have to give yourself over completely to this person, you have to trust them, you have to love them unconditionally\".</i>\n",
       "</div>\n",
       "<!-- artist link -->\n",
       "<ol class=\"breadcrumb noprint\" itemscope=\"\" itemtype=\"https://schema.org/BreadcrumbList\">\n",
       "<li itemprop=\"itemListElement\" itemscope=\"\" itemtype=\"https://schema.org/ListItem\"><a href=\"//www.azlyrics.com\" itemprop=\"item\"><span itemprop=\"name\">AZLyrics</span></a></li>\n",
       "<li itemprop=\"itemListElement\" itemscope=\"\" itemtype=\"https://schema.org/ListItem\"><a href=\"//www.azlyrics.com/b.html\" itemprop=\"item\"><span itemprop=\"name\">B</span></a></li>\n",
       "<li itemprop=\"itemListElement\" itemscope=\"\" itemtype=\"https://schema.org/ListItem\"><a href=\"//www.azlyrics.com/b/bringmethehorizon.html\" itemprop=\"item\"><span itemprop=\"name\">Bring Me The Horizon Lyrics</span></a></li>\n",
       "</ol>\n",
       "<!-- album songlists -->\n",
       "<div class=\"panel songlist-panel noprint\">\n",
       "album: <b>\"amo\"</b> (2019)<br/><br/>\n",
       "<a href=\"mantra.html\">MANTRA</a><br/>\n",
       "</div>\n",
       "<!-- album songlists end -->\n",
       "<form action=\"//search.azlyrics.com/search.php\" class=\"search noprint\" method=\"get\" role=\"search\">\n",
       "<div class=\"input-group\" style=\"margin-bottom:15px\">\n",
       "<input class=\"form-control\" name=\"q\" placeholder=\"\" type=\"text\"/>\n",
       "<span class=\"input-group-btn\">\n",
       "<button class=\"btn btn-primary\" type=\"submit\"><span class=\"glyphicon glyphicon-search\"></span> Search</button>\n",
       "</span>\n",
       "</div>\n",
       "</form>\n",
       "<div class=\"noprint visible-xs-block\" style=\"margin-top:5px;margin-bottom:5px\">\n",
       "<span id=\"cf_rect_bottom\"></span>\n",
       "</div>\n",
       "</div> <!-- content -->\n",
       "<div class=\"col-lg-2 text-center hidden-md hidden-sm hidden-xs noprint\">\n",
       "<div class=\"sky-ad\"></div>\n",
       "</div>\n",
       "</div>\n",
       "</div> <!-- container main-page -->\n",
       "<!-- nav bottom -->\n",
       "<nav class=\"navbar navbar-default navbar-bottom\">\n",
       "<div class=\"container text-center\">\n",
       "<ul class=\"nav navbar-nav navbar-center\">\n",
       "<li><a href=\"//www.azlyrics.com/add.php\" onclick=\"document.forms['addsong'].submit();return false;\">Submit Lyrics</a></li>\n",
       "<li><a href=\"//www.stlyrics.com\">Soundtracks</a></li>\n",
       "<li><a href=\"//www.facebook.com/pages/AZLyricscom/154139197951223\">Facebook</a></li>\n",
       "<li><a href=\"//www.azlyrics.com/contact.html\">Contact Us</a></li>\n",
       "</ul>\n",
       "</div>\n",
       "</nav>\n",
       "<!-- bot ban -->\n",
       "<div class=\"lboard-wrap noprint\">\n",
       "<div class=\"container\">\n",
       "<div class=\"row\">\n",
       "<div class=\"col-xs-12 top-ad text-center\">\n",
       "<span id=\"cf_banner_bottom\"></span>\n",
       "</div>\n",
       "</div>\n",
       "</div>\n",
       "</div>\n",
       "<!-- footer -->\n",
       "<nav class=\"navbar navbar-footer noprint\">\n",
       "<div class=\"container text-center\">\n",
       "<ul class=\"nav navbar-nav navbar-center\">\n",
       "<li><a href=\"//www.azlyrics.com/adv.html\">Advertise Here</a></li>\n",
       "<li><a href=\"//www.azlyrics.com/privacy.html\">Privacy Policy</a></li>\n",
       "<li><a href=\"//www.azlyrics.com/copyright.html\">DMCA Policy</a></li>\n",
       "</ul>\n",
       "</div>\n",
       "</nav>\n",
       "<div class=\"footer-wrap\">\n",
       "<div class=\"container\">\n",
       "<div class=\"noprint\"><span style=\"font-weight:bold;line-height:54px;vertical-align:top;\">Powered by </span><img alt=\"MusixMatch\" height=\"54\" src=\"//www.azlyrics.com/images/mxm.png\" width=\"184\"/></div>\n",
       "<small>\n",
       "             Bring Me The Horizon lyrics are property and copyright of their owners. \"MANTRA\" lyrics provided for educational purposes and personal use only.<br/>\n",
       "<script type=\"text/javascript\">\n",
       "                curdate=new Date();\n",
       "                document.write(\"<strong>Copyright &copy; 2000-\"+curdate.getFullYear()+\" AZLyrics.com<\\/strong>\");\n",
       "             </script>\n",
       "</small>\n",
       "</div>\n",
       "</div>\n",
       "<script>\n",
       "cf_page_artist = ArtistName;\n",
       "cf_page_song = SongName;\n",
       "cf_page_genre = \"rock\";\n",
       "</script>\n",
       "<script src=\"//cdn.clickfuse.com/publishers/azlyrics/single.min.js\"></script>\n",
       "<script type=\"text/javascript\">\n",
       "\n",
       "  var _gaq = _gaq || [];\n",
       "  _gaq.push(['_setAccount', 'UA-4309237-1']);\n",
       "\n",
       "  (function() {\n",
       "    var ga = document.createElement('script'); ga.type = 'text/javascript'; ga.async = true;\n",
       "    ga.src = ('https:' == document.location.protocol ? 'https://ssl' : 'http://www') + '.google-analytics.com/ga.js';\n",
       "    var s = document.getElementsByTagName('script')[0]; s.parentNode.insertBefore(ga, s);\n",
       "  })();\n",
       "\n",
       "</script>\n",
       "<div class=\"hidden\" id=\"CssFailCheck\" style=\"height:1px;\"></div>\n",
       "<script src=\"https://ajax.googleapis.com/ajax/libs/jquery/1.11.2/jquery.min.js\"></script>\n",
       "<script>window.jQuery || document.write('<script src=\"//www.azlyrics.com/local/jquery.min.js\"><\\/script>')</script>\n",
       "<script>\n",
       "      $(function () {\n",
       "       if ($('#CssFailCheck').is(':visible') === true) {\n",
       "         $('<link rel=\"stylesheet\" type=\"text/css\" href=\"//www.azlyrics.com/bs/css/bootstrap.min.css\"><link rel=\"stylesheet\" href=\"//www.azlyrics.com/bsaz.css\">').appendTo('head');\n",
       "       }\n",
       "      });\n",
       "    </script>\n",
       "<script src=\"//www.azlyrics.com/collapse.js\"></script>\n",
       "<script src=\"https://tracking.musixmatch.com/t1.0/m_js/e_0/sn_0/l_18178098/su_0/rs_0/tr_3vUCAGPgc3u3MfySJNd8654qpi9DCJ-jCRyrpRcvPrdr8bRdkQLiXMr1WMc0ifeeWGrfkx1kJRe5OOsHRAkw_RiVYlI7D4kn54X3xwHneH7c7OhJ4ZU8WHkuXyOdHzBDnZr2_vUP79Nkc3IN4CDGkq94_jZH5hARW6Tj3KESX_IVrFoOt27L2uvW8dkNurEaupS0wmIx1nfqT7MOK8VGxe84NTD0IwS3GXpd0dv7BoRSADxkRsn35fStLNer7ky4BbnLXkmiiibdO1dxE_3YtaZvk67HfUkYT32tkMDg7fqK6VxUY8mW3eQaikqAMzyRNYKrVS9imiVceNqmvcaBsHQKwsnl7isWGtpuryoXj9JX62Z9EksISX1BkVBYy8pc43GSM4MrtFh8S287M4U_hznd5M1pYXTbHpoXNFXipX4kgHx4JgHyC_G6gVLnHNEWlxqNr1UgZB4kv7qy/\" type=\"text/javascript\"></script>\n",
       "</body>\n",
       "</html>"
      ]
     },
     "execution_count": 8,
     "metadata": {},
     "output_type": "execute_result"
    }
   ],
   "source": [
    "from urllib.request import urlopen\n",
    "from bs4 import BeautifulSoup\n",
    "\n",
    "#downloading the page\n",
    "articleURL = \"https://phys.org/news/2017-09-astronomers-mystery-white-dwarf-mass.html\"\n",
    "page = urlopen(articleURL).read().decode('utf8', 'ignore')\n",
    "soup = BeautifulSoup(page, 'lxml')\n",
    "soup"
   ]
  },
  {
   "cell_type": "code",
   "execution_count": 9,
   "metadata": {
    "collapsed": false
   },
   "outputs": [],
   "source": [
    "# soup.find('article')"
   ]
  },
  {
   "cell_type": "code",
   "execution_count": 10,
   "metadata": {
    "collapsed": false
   },
   "outputs": [],
   "source": [
    "# soup.find('article').text"
   ]
  },
  {
   "cell_type": "code",
   "execution_count": 11,
   "metadata": {
    "collapsed": false
   },
   "outputs": [
    {
     "data": {
      "text/plain": [
       "''"
      ]
     },
     "execution_count": 11,
     "metadata": {},
     "output_type": "execute_result"
    }
   ],
   "source": [
    "#get separate words from article\n",
    "text = ' '.join(map(lambda p: p.text, soup.find_all('article')))\n",
    "\n",
    "# removing special characters\n",
    "text.encode('ascii', 'ignore')\n",
    "text.replace(\"?\", \"\")\n",
    "text.replace('\\n', '')"
   ]
  },
  {
   "cell_type": "code",
   "execution_count": 12,
   "metadata": {
    "collapsed": true
   },
   "outputs": [],
   "source": [
    "import string\n",
    "\n",
    "def getText(url):\n",
    "    page = urlopen(url).read().decode('utf8', 'ignore')\n",
    "    soup = BeautifulSoup(page, 'lxml')\n",
    "    text = ' '.join(map(lambda p: p.text, soup.find_all('article')))\n",
    "    text.encode('ascii', 'ignore')\n",
    "    #text = text.translate(string.make (\"\\n\\t\\r\", \"   \"))\n",
    "    text = text.replace('\\xa0', ' ')\n",
    "    text = ' '.join(text.split())\n",
    "    return text"
   ]
  },
  {
   "cell_type": "code",
   "execution_count": 13,
   "metadata": {
    "collapsed": false
   },
   "outputs": [],
   "source": [
    "text = getText(articleURL)"
   ]
  },
  {
   "cell_type": "code",
   "execution_count": 14,
   "metadata": {
    "collapsed": false
   },
   "outputs": [
    {
     "ename": "LookupError",
     "evalue": "\n**********************************************************************\n  Resource 'tokenizers/punkt/english.pickle' not found.  Please\n  use the NLTK Downloader to obtain the resource:  >>>\n  nltk.download()\n  Searched in:\n    - 'C:\\\\Users\\\\snobl/nltk_data'\n    - 'C:\\\\nltk_data'\n    - 'D:\\\\nltk_data'\n    - 'E:\\\\nltk_data'\n    - 'C:\\\\ProgramData\\\\Anaconda3\\\\nltk_data'\n    - 'C:\\\\ProgramData\\\\Anaconda3\\\\lib\\\\nltk_data'\n    - 'C:\\\\Users\\\\snobl\\\\AppData\\\\Roaming\\\\nltk_data'\n    - ''\n**********************************************************************",
     "output_type": "error",
     "traceback": [
      "\u001b[0;31m---------------------------------------------------------------------------\u001b[0m",
      "\u001b[0;31mLookupError\u001b[0m                               Traceback (most recent call last)",
      "\u001b[0;32m<ipython-input-14-3d980da3ceab>\u001b[0m in \u001b[0;36m<module>\u001b[0;34m()\u001b[0m\n\u001b[1;32m      3\u001b[0m \u001b[1;32mfrom\u001b[0m \u001b[0mstring\u001b[0m \u001b[1;32mimport\u001b[0m \u001b[0mpunctuation\u001b[0m\u001b[1;33m\u001b[0m\u001b[0m\n\u001b[1;32m      4\u001b[0m \u001b[1;33m\u001b[0m\u001b[0m\n\u001b[0;32m----> 5\u001b[0;31m \u001b[0msents\u001b[0m \u001b[1;33m=\u001b[0m \u001b[0msent_tokenize\u001b[0m\u001b[1;33m(\u001b[0m\u001b[0mtext\u001b[0m\u001b[1;33m)\u001b[0m\u001b[1;33m\u001b[0m\u001b[0m\n\u001b[0m",
      "\u001b[0;32mC:\\ProgramData\\Anaconda3\\lib\\site-packages\\nltk\\tokenize\\__init__.py\u001b[0m in \u001b[0;36msent_tokenize\u001b[0;34m(text, language)\u001b[0m\n\u001b[1;32m     91\u001b[0m     \u001b[1;33m:\u001b[0m\u001b[0mparam\u001b[0m \u001b[0mlanguage\u001b[0m\u001b[1;33m:\u001b[0m \u001b[0mthe\u001b[0m \u001b[0mmodel\u001b[0m \u001b[0mname\u001b[0m \u001b[1;32min\u001b[0m \u001b[0mthe\u001b[0m \u001b[0mPunkt\u001b[0m \u001b[0mcorpus\u001b[0m\u001b[1;33m\u001b[0m\u001b[0m\n\u001b[1;32m     92\u001b[0m     \"\"\"\n\u001b[0;32m---> 93\u001b[0;31m     \u001b[0mtokenizer\u001b[0m \u001b[1;33m=\u001b[0m \u001b[0mload\u001b[0m\u001b[1;33m(\u001b[0m\u001b[1;34m'tokenizers/punkt/{0}.pickle'\u001b[0m\u001b[1;33m.\u001b[0m\u001b[0mformat\u001b[0m\u001b[1;33m(\u001b[0m\u001b[0mlanguage\u001b[0m\u001b[1;33m)\u001b[0m\u001b[1;33m)\u001b[0m\u001b[1;33m\u001b[0m\u001b[0m\n\u001b[0m\u001b[1;32m     94\u001b[0m     \u001b[1;32mreturn\u001b[0m \u001b[0mtokenizer\u001b[0m\u001b[1;33m.\u001b[0m\u001b[0mtokenize\u001b[0m\u001b[1;33m(\u001b[0m\u001b[0mtext\u001b[0m\u001b[1;33m)\u001b[0m\u001b[1;33m\u001b[0m\u001b[0m\n\u001b[1;32m     95\u001b[0m \u001b[1;33m\u001b[0m\u001b[0m\n",
      "\u001b[0;32mC:\\ProgramData\\Anaconda3\\lib\\site-packages\\nltk\\data.py\u001b[0m in \u001b[0;36mload\u001b[0;34m(resource_url, format, cache, verbose, logic_parser, fstruct_reader, encoding)\u001b[0m\n\u001b[1;32m    806\u001b[0m \u001b[1;33m\u001b[0m\u001b[0m\n\u001b[1;32m    807\u001b[0m     \u001b[1;31m# Load the resource.\u001b[0m\u001b[1;33m\u001b[0m\u001b[1;33m\u001b[0m\u001b[0m\n\u001b[0;32m--> 808\u001b[0;31m     \u001b[0mopened_resource\u001b[0m \u001b[1;33m=\u001b[0m \u001b[0m_open\u001b[0m\u001b[1;33m(\u001b[0m\u001b[0mresource_url\u001b[0m\u001b[1;33m)\u001b[0m\u001b[1;33m\u001b[0m\u001b[0m\n\u001b[0m\u001b[1;32m    809\u001b[0m \u001b[1;33m\u001b[0m\u001b[0m\n\u001b[1;32m    810\u001b[0m     \u001b[1;32mif\u001b[0m \u001b[0mformat\u001b[0m \u001b[1;33m==\u001b[0m \u001b[1;34m'raw'\u001b[0m\u001b[1;33m:\u001b[0m\u001b[1;33m\u001b[0m\u001b[0m\n",
      "\u001b[0;32mC:\\ProgramData\\Anaconda3\\lib\\site-packages\\nltk\\data.py\u001b[0m in \u001b[0;36m_open\u001b[0;34m(resource_url)\u001b[0m\n\u001b[1;32m    924\u001b[0m \u001b[1;33m\u001b[0m\u001b[0m\n\u001b[1;32m    925\u001b[0m     \u001b[1;32mif\u001b[0m \u001b[0mprotocol\u001b[0m \u001b[1;32mis\u001b[0m \u001b[1;32mNone\u001b[0m \u001b[1;32mor\u001b[0m \u001b[0mprotocol\u001b[0m\u001b[1;33m.\u001b[0m\u001b[0mlower\u001b[0m\u001b[1;33m(\u001b[0m\u001b[1;33m)\u001b[0m \u001b[1;33m==\u001b[0m \u001b[1;34m'nltk'\u001b[0m\u001b[1;33m:\u001b[0m\u001b[1;33m\u001b[0m\u001b[0m\n\u001b[0;32m--> 926\u001b[0;31m         \u001b[1;32mreturn\u001b[0m \u001b[0mfind\u001b[0m\u001b[1;33m(\u001b[0m\u001b[0mpath_\u001b[0m\u001b[1;33m,\u001b[0m \u001b[0mpath\u001b[0m \u001b[1;33m+\u001b[0m \u001b[1;33m[\u001b[0m\u001b[1;34m''\u001b[0m\u001b[1;33m]\u001b[0m\u001b[1;33m)\u001b[0m\u001b[1;33m.\u001b[0m\u001b[0mopen\u001b[0m\u001b[1;33m(\u001b[0m\u001b[1;33m)\u001b[0m\u001b[1;33m\u001b[0m\u001b[0m\n\u001b[0m\u001b[1;32m    927\u001b[0m     \u001b[1;32melif\u001b[0m \u001b[0mprotocol\u001b[0m\u001b[1;33m.\u001b[0m\u001b[0mlower\u001b[0m\u001b[1;33m(\u001b[0m\u001b[1;33m)\u001b[0m \u001b[1;33m==\u001b[0m \u001b[1;34m'file'\u001b[0m\u001b[1;33m:\u001b[0m\u001b[1;33m\u001b[0m\u001b[0m\n\u001b[1;32m    928\u001b[0m         \u001b[1;31m# urllib might not use mode='rb', so handle this one ourselves:\u001b[0m\u001b[1;33m\u001b[0m\u001b[1;33m\u001b[0m\u001b[0m\n",
      "\u001b[0;32mC:\\ProgramData\\Anaconda3\\lib\\site-packages\\nltk\\data.py\u001b[0m in \u001b[0;36mfind\u001b[0;34m(resource_name, paths)\u001b[0m\n\u001b[1;32m    646\u001b[0m     \u001b[0msep\u001b[0m \u001b[1;33m=\u001b[0m \u001b[1;34m'*'\u001b[0m \u001b[1;33m*\u001b[0m \u001b[1;36m70\u001b[0m\u001b[1;33m\u001b[0m\u001b[0m\n\u001b[1;32m    647\u001b[0m     \u001b[0mresource_not_found\u001b[0m \u001b[1;33m=\u001b[0m \u001b[1;34m'\\n%s\\n%s\\n%s'\u001b[0m \u001b[1;33m%\u001b[0m \u001b[1;33m(\u001b[0m\u001b[0msep\u001b[0m\u001b[1;33m,\u001b[0m \u001b[0mmsg\u001b[0m\u001b[1;33m,\u001b[0m \u001b[0msep\u001b[0m\u001b[1;33m)\u001b[0m\u001b[1;33m\u001b[0m\u001b[0m\n\u001b[0;32m--> 648\u001b[0;31m     \u001b[1;32mraise\u001b[0m \u001b[0mLookupError\u001b[0m\u001b[1;33m(\u001b[0m\u001b[0mresource_not_found\u001b[0m\u001b[1;33m)\u001b[0m\u001b[1;33m\u001b[0m\u001b[0m\n\u001b[0m\u001b[1;32m    649\u001b[0m \u001b[1;33m\u001b[0m\u001b[0m\n\u001b[1;32m    650\u001b[0m \u001b[1;33m\u001b[0m\u001b[0m\n",
      "\u001b[0;31mLookupError\u001b[0m: \n**********************************************************************\n  Resource 'tokenizers/punkt/english.pickle' not found.  Please\n  use the NLTK Downloader to obtain the resource:  >>>\n  nltk.download()\n  Searched in:\n    - 'C:\\\\Users\\\\snobl/nltk_data'\n    - 'C:\\\\nltk_data'\n    - 'D:\\\\nltk_data'\n    - 'E:\\\\nltk_data'\n    - 'C:\\\\ProgramData\\\\Anaconda3\\\\nltk_data'\n    - 'C:\\\\ProgramData\\\\Anaconda3\\\\lib\\\\nltk_data'\n    - 'C:\\\\Users\\\\snobl\\\\AppData\\\\Roaming\\\\nltk_data'\n    - ''\n**********************************************************************"
     ]
    }
   ],
   "source": [
    "from nltk.tokenize import sent_tokenize, word_tokenize\n",
    "from nltk.corpus import stopwords\n",
    "from string import punctuation\n",
    "\n",
    "sents = sent_tokenize(text)"
   ]
  },
  {
   "cell_type": "code",
   "execution_count": null,
   "metadata": {
    "collapsed": false
   },
   "outputs": [],
   "source": [
    "word_sent = word_tokenize(text.lower())\n",
    "_stopwords = set(stopwords.words('english') + list(punctuation))\n",
    "word_sent = [word for word in word_sent if word not in _stopwords]\n",
    "word_sent"
   ]
  },
  {
   "cell_type": "markdown",
   "metadata": {},
   "source": [
    "### Construct a frequency distribution of words"
   ]
  },
  {
   "cell_type": "code",
   "execution_count": null,
   "metadata": {
    "collapsed": false
   },
   "outputs": [],
   "source": [
    "from nltk.probability import FreqDist\n",
    "freq = FreqDist(word_sent)"
   ]
  },
  {
   "cell_type": "code",
   "execution_count": null,
   "metadata": {
    "collapsed": false
   },
   "outputs": [],
   "source": [
    "from heapq import nlargest\n",
    "nlargest(10, freq, key = freq.get)"
   ]
  },
  {
   "cell_type": "markdown",
   "metadata": {},
   "source": [
    "### Using default dicionary to rank sentences"
   ]
  },
  {
   "cell_type": "code",
   "execution_count": null,
   "metadata": {
    "collapsed": false
   },
   "outputs": [],
   "source": [
    "from collections import defaultdict\n",
    "ranking = defaultdict(int)\n",
    "\n",
    "for i,sent in enumerate(sents):\n",
    "    for w in word_tokenize(sent.lower()):\n",
    "        if w in freq:\n",
    "            ranking[i] += freq[w]\n",
    "            \n",
    "sents_idx = nlargest(4, ranking, key = ranking.get)\n",
    "sents_idx"
   ]
  },
  {
   "cell_type": "code",
   "execution_count": null,
   "metadata": {
    "collapsed": false
   },
   "outputs": [],
   "source": [
    "[sents[j] for j in sorted(sents_idx)]"
   ]
  },
  {
   "cell_type": "code",
   "execution_count": null,
   "metadata": {
    "collapsed": true
   },
   "outputs": [],
   "source": []
  }
 ],
 "metadata": {
  "kernelspec": {
   "display_name": "Python 3",
   "language": "python",
   "name": "python3"
  },
  "language_info": {
   "codemirror_mode": {
    "name": "ipython",
    "version": 3
   },
   "file_extension": ".py",
   "mimetype": "text/x-python",
   "name": "python",
   "nbconvert_exporter": "python",
   "pygments_lexer": "ipython3",
   "version": "3.6.0"
  }
 },
 "nbformat": 4,
 "nbformat_minor": 2
}
