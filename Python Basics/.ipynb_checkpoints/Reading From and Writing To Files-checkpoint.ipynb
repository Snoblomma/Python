{
 "cells": [
  {
   "cell_type": "markdown",
   "metadata": {},
   "source": [
    "## Reading"
   ]
  },
  {
   "cell_type": "code",
   "execution_count": 9,
   "metadata": {
    "collapsed": false
   },
   "outputs": [
    {
     "data": {
      "text/plain": [
       "264"
      ]
     },
     "execution_count": 9,
     "metadata": {},
     "output_type": "execute_result"
    }
   ],
   "source": [
    "f = open(\"countries.txt\", \"r\")\n",
    "\n",
    "countries = []\n",
    "\n",
    "for line in f:\n",
    "    countries.append(line)\n",
    "\n",
    "f.close()\n",
    "\n",
    "len(countries)"
   ]
  },
  {
   "cell_type": "markdown",
   "metadata": {},
   "source": [
    "### Starint with \"T\""
   ]
  },
  {
   "cell_type": "code",
   "execution_count": 11,
   "metadata": {
    "collapsed": false
   },
   "outputs": [
    {
     "name": "stdout",
     "output_type": "stream",
     "text": [
      "Taiwan\n",
      "Tajikistan\n",
      "Tanzania\n",
      "Thailand\n",
      "Timor-Leste\n",
      "Togo\n",
      "Tokelau\n",
      "Tonga\n",
      "Trinidad and Tobago\n",
      "Tunisia\n",
      "Turkey\n",
      "Turkmenistan\n",
      "Turks and Caicos Islands\n",
      "Tuvalu\n"
     ]
    }
   ],
   "source": [
    "for country in countries:\n",
    "    if country[0] == \"T\":\n",
    "        print(country, end = \"\")"
   ]
  },
  {
   "cell_type": "markdown",
   "metadata": {},
   "source": [
    "## Writing"
   ]
  },
  {
   "cell_type": "code",
   "execution_count": 13,
   "metadata": {
    "collapsed": false
   },
   "outputs": [
    {
     "name": "stdout",
     "output_type": "stream",
     "text": [
      "Participant name > Kate\n",
      "Score for Kate > 98\n",
      "Participant name > James\n",
      "Score for James > 76\n",
      "Participant name > Vasyl\n",
      "Score for Vasyl > 99\n",
      "Participant name > Hon\n",
      "Score for Hon > 67\n",
      "Participant name > Frank\n",
      "Score for Frank > 89\n",
      "Participant name > Rose\n",
      "Score for Rose > 49\n",
      "Participant name > Jim\n",
      "Score for Jim > 54\n",
      "Participant name > quit\n"
     ]
    }
   ],
   "source": [
    "f = open(\"scores.txt\", \"w\")\n",
    "\n",
    "scores = []\n",
    "\n",
    "while True:\n",
    "    participant = input(\"Participant name > \")\n",
    "    if participant == \"quit\":\n",
    "        break\n",
    "        \n",
    "    score = input(\"Score for \" + participant + \" > \")\n",
    "    f.write(participant + \", \" + score + \"\\n\")\n",
    "\n",
    "f.close()"
   ]
  },
  {
   "cell_type": "markdown",
   "metadata": {},
   "source": [
    "### Reading and adding scores to dictionary"
   ]
  },
  {
   "cell_type": "code",
   "execution_count": 21,
   "metadata": {
    "collapsed": false
   },
   "outputs": [
    {
     "name": "stdout",
     "output_type": "stream",
     "text": [
      "Kate: 98\n",
      "James: 76\n",
      "Vasyl: 99\n",
      "Hon: 67\n",
      "Frank: 89\n",
      "Rose: 49\n",
      "Jim: 54\n",
      "{'Kate': '98', 'James': '76', 'Vasyl': '99', 'Hon': '67', 'Frank': '89', 'Rose': '49', 'Jim': '54'}\n"
     ]
    }
   ],
   "source": [
    "f = open(\"scores.txt\", \"r\")\n",
    "\n",
    "participants = {}\n",
    "\n",
    "for line in f:\n",
    "    entry = line.strip().split(\", \")\n",
    "    participant = entry[0]\n",
    "    score = entry[1]    \n",
    "    participants[participant] = score\n",
    "    print(participant + \": \" + score)\n",
    "    \n",
    "f.close()\n",
    "\n",
    "print(participants)"
   ]
  },
  {
   "cell_type": "code",
   "execution_count": null,
   "metadata": {
    "collapsed": true
   },
   "outputs": [],
   "source": []
  }
 ],
 "metadata": {
  "kernelspec": {
   "display_name": "Python 3",
   "language": "python",
   "name": "python3"
  },
  "language_info": {
   "codemirror_mode": {
    "name": "ipython",
    "version": 3
   },
   "file_extension": ".py",
   "mimetype": "text/x-python",
   "name": "python",
   "nbconvert_exporter": "python",
   "pygments_lexer": "ipython3",
   "version": "3.6.0"
  }
 },
 "nbformat": 4,
 "nbformat_minor": 2
}
